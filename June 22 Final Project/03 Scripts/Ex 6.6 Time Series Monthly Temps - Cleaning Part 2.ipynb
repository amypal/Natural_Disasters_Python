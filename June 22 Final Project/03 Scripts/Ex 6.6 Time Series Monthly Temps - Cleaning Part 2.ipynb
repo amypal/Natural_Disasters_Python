{
 "cells": [
  {
   "cell_type": "markdown",
   "id": "978b7678",
   "metadata": {},
   "source": [
    "# Cleaning and wrangling Monthly_Temps df\n",
    "\n",
    "Contents\n",
    "- 01 Importing libraries and data\n",
    "- 02 Cleaning countries\n",
    "\n",
    " \n",
    "\n",
    "\n",
    "## 01 Importing libraries and data "
   ]
  },
  {
   "cell_type": "code",
   "execution_count": 1,
   "id": "66e36998",
   "metadata": {},
   "outputs": [],
   "source": [
    "import pandas as pd\n",
    "import numpy as np\n",
    "import os"
   ]
  },
  {
   "cell_type": "code",
   "execution_count": 2,
   "id": "527be925",
   "metadata": {},
   "outputs": [],
   "source": [
    "# Define path\n",
    "\n",
    "path = r'//Users/amypalomino/Documents/June 22 Final Project/02 Data'"
   ]
  },
  {
   "cell_type": "code",
   "execution_count": 3,
   "id": "14dd4ce6",
   "metadata": {},
   "outputs": [],
   "source": [
    "# Import dataframe \n",
    "\n",
    "df = pd.read_csv(os.path.join(path, 'Prepared Data', 'Monthly_Temps.csv'),\n",
    "                index_col = False)"
   ]
  },
  {
   "cell_type": "markdown",
   "id": "19c04838",
   "metadata": {},
   "source": [
    "## 02 Cleaning Countries\n",
    "\n"
   ]
  },
  {
   "cell_type": "code",
   "execution_count": 4,
   "id": "35dc67e5",
   "metadata": {},
   "outputs": [
    {
     "data": {
      "text/html": [
       "<div>\n",
       "<style scoped>\n",
       "    .dataframe tbody tr th:only-of-type {\n",
       "        vertical-align: middle;\n",
       "    }\n",
       "\n",
       "    .dataframe tbody tr th {\n",
       "        vertical-align: top;\n",
       "    }\n",
       "\n",
       "    .dataframe thead th {\n",
       "        text-align: right;\n",
       "    }\n",
       "</style>\n",
       "<table border=\"1\" class=\"dataframe\">\n",
       "  <thead>\n",
       "    <tr style=\"text-align: right;\">\n",
       "      <th></th>\n",
       "      <th>Unnamed: 0</th>\n",
       "      <th>Area Code (FAO)</th>\n",
       "      <th>Area</th>\n",
       "      <th>Element</th>\n",
       "      <th>Months</th>\n",
       "      <th>Year</th>\n",
       "      <th>Unit</th>\n",
       "      <th>Value</th>\n",
       "      <th>Month_No</th>\n",
       "      <th>Day</th>\n",
       "      <th>Date</th>\n",
       "    </tr>\n",
       "  </thead>\n",
       "  <tbody>\n",
       "    <tr>\n",
       "      <th>0</th>\n",
       "      <td>0</td>\n",
       "      <td>2</td>\n",
       "      <td>Afghanistan</td>\n",
       "      <td>Temperature change</td>\n",
       "      <td>January</td>\n",
       "      <td>1970</td>\n",
       "      <td>°C</td>\n",
       "      <td>0.824</td>\n",
       "      <td>1</td>\n",
       "      <td>1</td>\n",
       "      <td>1970-01-01</td>\n",
       "    </tr>\n",
       "    <tr>\n",
       "      <th>1</th>\n",
       "      <td>1</td>\n",
       "      <td>2</td>\n",
       "      <td>Afghanistan</td>\n",
       "      <td>Temperature change</td>\n",
       "      <td>January</td>\n",
       "      <td>1971</td>\n",
       "      <td>°C</td>\n",
       "      <td>-1.465</td>\n",
       "      <td>1</td>\n",
       "      <td>1</td>\n",
       "      <td>1971-01-01</td>\n",
       "    </tr>\n",
       "    <tr>\n",
       "      <th>2</th>\n",
       "      <td>2</td>\n",
       "      <td>2</td>\n",
       "      <td>Afghanistan</td>\n",
       "      <td>Temperature change</td>\n",
       "      <td>January</td>\n",
       "      <td>1972</td>\n",
       "      <td>°C</td>\n",
       "      <td>-1.237</td>\n",
       "      <td>1</td>\n",
       "      <td>1</td>\n",
       "      <td>1972-01-01</td>\n",
       "    </tr>\n",
       "    <tr>\n",
       "      <th>3</th>\n",
       "      <td>3</td>\n",
       "      <td>2</td>\n",
       "      <td>Afghanistan</td>\n",
       "      <td>Temperature change</td>\n",
       "      <td>January</td>\n",
       "      <td>1973</td>\n",
       "      <td>°C</td>\n",
       "      <td>-2.871</td>\n",
       "      <td>1</td>\n",
       "      <td>1</td>\n",
       "      <td>1973-01-01</td>\n",
       "    </tr>\n",
       "    <tr>\n",
       "      <th>4</th>\n",
       "      <td>4</td>\n",
       "      <td>2</td>\n",
       "      <td>Afghanistan</td>\n",
       "      <td>Temperature change</td>\n",
       "      <td>January</td>\n",
       "      <td>1974</td>\n",
       "      <td>°C</td>\n",
       "      <td>-1.181</td>\n",
       "      <td>1</td>\n",
       "      <td>1</td>\n",
       "      <td>1974-01-01</td>\n",
       "    </tr>\n",
       "  </tbody>\n",
       "</table>\n",
       "</div>"
      ],
      "text/plain": [
       "   Unnamed: 0  Area Code (FAO)         Area             Element   Months  \\\n",
       "0           0                2  Afghanistan  Temperature change  January   \n",
       "1           1                2  Afghanistan  Temperature change  January   \n",
       "2           2                2  Afghanistan  Temperature change  January   \n",
       "3           3                2  Afghanistan  Temperature change  January   \n",
       "4           4                2  Afghanistan  Temperature change  January   \n",
       "\n",
       "   Year Unit  Value  Month_No  Day        Date  \n",
       "0  1970   °C  0.824         1    1  1970-01-01  \n",
       "1  1971   °C -1.465         1    1  1971-01-01  \n",
       "2  1972   °C -1.237         1    1  1972-01-01  \n",
       "3  1973   °C -2.871         1    1  1973-01-01  \n",
       "4  1974   °C -1.181         1    1  1974-01-01  "
      ]
     },
     "execution_count": 4,
     "metadata": {},
     "output_type": "execute_result"
    }
   ],
   "source": [
    "df.head()"
   ]
  },
  {
   "cell_type": "code",
   "execution_count": 5,
   "id": "30daf98e",
   "metadata": {},
   "outputs": [],
   "source": [
    "df = df.drop(columns = ['Unnamed: 0'])"
   ]
  },
  {
   "cell_type": "code",
   "execution_count": 6,
   "id": "f617111a",
   "metadata": {},
   "outputs": [
    {
     "data": {
      "text/plain": [
       "Index(['Area Code (FAO)', 'Area', 'Element', 'Months', 'Year', 'Unit', 'Value',\n",
       "       'Month_No', 'Day', 'Date'],\n",
       "      dtype='object')"
      ]
     },
     "execution_count": 6,
     "metadata": {},
     "output_type": "execute_result"
    }
   ],
   "source": [
    "df.columns"
   ]
  },
  {
   "cell_type": "code",
   "execution_count": 7,
   "id": "5cd5d460",
   "metadata": {},
   "outputs": [
    {
     "data": {
      "text/plain": [
       "Guyana                             1248\n",
       "Georgia                             984\n",
       "Sudan                               636\n",
       "Afghanistan                         624\n",
       "Myanmar                             624\n",
       "                                   ... \n",
       "Yugoslav SFR                        264\n",
       "USSR                                264\n",
       "Pacific Islands Trust Territory     252\n",
       "Montenegro                          192\n",
       "South Sudan                         132\n",
       "Name: Area, Length: 240, dtype: int64"
      ]
     },
     "execution_count": 7,
     "metadata": {},
     "output_type": "execute_result"
    }
   ],
   "source": [
    "df['Area'].value_counts(dropna = False)"
   ]
  },
  {
   "cell_type": "code",
   "execution_count": 8,
   "id": "6f01b7df",
   "metadata": {},
   "outputs": [
    {
     "data": {
      "text/plain": [
       "array(['Afghanistan', 'Albania', 'Algeria', 'American Samoa', 'Andorra',\n",
       "       'Angola', 'Anguilla', 'Antarctica', 'Antigua and Barbuda',\n",
       "       'Argentina', 'Armenia', 'Aruba', 'Australia', 'Austria',\n",
       "       'Azerbaijan', 'Bahamas', 'Bahrain', 'Bangladesh', 'Barbados',\n",
       "       'Belarus', 'Belgium', 'Luxembourg', 'Belize', 'Benin', 'Bhutan',\n",
       "       'Bolivia', 'Bosnia and Herzegovina', 'Botswana', 'Brazil',\n",
       "       'Virgin Island (British)', 'Brunei Darussalam', 'Bulgaria',\n",
       "       'Burkina Faso', 'Burundi', 'Cabo Verde', 'Cambodia', 'Cameroon',\n",
       "       'Canada', 'Cayman Islands', 'Central African Republic', 'Chad',\n",
       "       'Channel Islands', 'Chile', 'China, Hong Kong SAR',\n",
       "       'China, Macao SAR', 'China', 'China, Taiwan Province of',\n",
       "       'Christmas Island', 'Cocos (Keeling) Islands', 'Colombia',\n",
       "       'Comoros (the)', 'Congo', 'Cook Islands (the)', 'Costa Rica',\n",
       "       \"Côte d'Ivoire\", 'Croatia', 'Cuba', 'Cyprus', 'Czech Rep',\n",
       "       'Czechoslovakia', 'North Korea', 'Dem. Rep. Congo', 'Denmark',\n",
       "       'Djibouti', 'Dominica', 'Dominican Republic', 'Ecuador', 'Egypt',\n",
       "       'El Salvador', 'Equatorial Guinea', 'Eritrea', 'Estonia',\n",
       "       'Eswatini', 'Ethiopia', 'Falkland Islands (Malvinas)',\n",
       "       'Faroe Islands', 'Fiji', 'Finland', 'France', 'Guyana',\n",
       "       'French Polynesia', 'French Southern Territories', 'Gabon',\n",
       "       'Gambia', 'Georgia', 'Germany', 'Ghana', 'Gibraltar', 'Greece',\n",
       "       'Greenland', 'Grenada', 'Guadeloupe', 'Guatemala', 'Guinea',\n",
       "       'Guinea-Bissau', 'Haiti', 'Holy See', 'Honduras', 'Hungary',\n",
       "       'Iceland', 'India', 'Indonesia', 'Iran', 'Iraq', 'Ireland',\n",
       "       'Isle of Man', 'Israel', 'Italy', 'Jamaica', 'Japan', 'Jordan',\n",
       "       'Kazakhstan', 'Kenya', 'Kiribati', 'Kuwait', 'Kyrgyzstan',\n",
       "       'Lao PDR', 'Latvia', 'Lebanon', 'Lesotho', 'Liberia', 'Libya',\n",
       "       'Liechtenstein', 'Lithuania', 'Madagascar', 'Malawi', 'Malaysia',\n",
       "       'Maldives', 'Mali', 'Malta', 'Marshall Islands (the)',\n",
       "       'Martinique', 'Mauritania', 'Mauritius', 'Mayotte', 'Mexico',\n",
       "       'Micronesia (Federated States of)', 'Midway Island', 'Monaco',\n",
       "       'Mongolia', 'Montenegro', 'Montserrat', 'Morocco', 'Mozambique',\n",
       "       'Myanmar', 'Namibia', 'Nauru', 'Nepal', 'Netherlands',\n",
       "       'Netherlands Antilles', 'New Caledonia', 'New Zealand',\n",
       "       'Nicaragua', 'Niger', 'Nigeria', 'Niue', 'Norfolk Island',\n",
       "       'Macedonia', 'Norway', 'Oman', 'Pacific Islands Trust Territory',\n",
       "       'Pakistan', 'Palau', 'Palestine, State of', 'Panama',\n",
       "       'Papua New Guinea', 'Paraguay', 'Peru', 'Philippines', 'Pitcairn',\n",
       "       'Poland', 'Portugal', 'Puerto Rico', 'Qatar', 'South Korea',\n",
       "       'Moldova', 'Réunion', 'Romania', 'Russia', 'Rwanda',\n",
       "       'Saint Helena, Ascension and Tristan da Cunha',\n",
       "       'Saint Kitts and Nevis', 'Saint Lucia',\n",
       "       'Saint Pierre and Miquelon', 'Saint Vincent and the Grenadines',\n",
       "       'Samoa', 'San Marino', 'Sao Tome and Principe', 'Saudi Arabia',\n",
       "       'Senegal', 'Serbia', 'Seychelles', 'Sierra Leone', 'Singapore',\n",
       "       'Slovakia', 'Slovenia', 'Solomon Islands', 'Somalia',\n",
       "       'South Africa', 'South Sudan', 'Spain', 'Sri Lanka', 'Sudan',\n",
       "       'Suriname', 'Svalbard and Jan Mayen Islands', 'Sweden',\n",
       "       'Switzerland', 'Syria', 'Tajikistan', 'Thailand', 'Timor-Leste',\n",
       "       'Togo', 'Tokelau', 'Tonga', 'Trinidad and Tobago', 'Tunisia',\n",
       "       'Turkey', 'Turkmenistan', 'Turks and Caicos Islands (the)',\n",
       "       'Tuvalu', 'Uganda', 'Ukraine', 'United Arab Emirates',\n",
       "       'United Kingdom', 'United Republic of Tanzania',\n",
       "       'United States of America', 'Virgin Island (U.S.)', 'Uruguay',\n",
       "       'USSR', 'Uzbekistan', 'Vanuatu',\n",
       "       'Venezuela (Bolivarian Republic of)', 'Viet Nam', 'Wake Island',\n",
       "       'Wallis and Futuna Islands', 'Western Sahara', 'Yemen',\n",
       "       'Yugoslav SFR', 'Zambia', 'Zimbabwe'], dtype=object)"
      ]
     },
     "execution_count": 8,
     "metadata": {},
     "output_type": "execute_result"
    }
   ],
   "source": [
    "df['Area'].unique()"
   ]
  },
  {
   "cell_type": "code",
   "execution_count": 9,
   "id": "63e9651b",
   "metadata": {},
   "outputs": [],
   "source": [
    "df.loc[df['Area'] == 'United States of America', 'Area'] = 'United States'"
   ]
  },
  {
   "cell_type": "code",
   "execution_count": 10,
   "id": "33cefd93",
   "metadata": {},
   "outputs": [],
   "source": [
    "df.loc[df['Area'] == 'United Kingdom of Great Britain and Northern Ireland', 'Area'] = 'United Kingdom'"
   ]
  },
  {
   "cell_type": "code",
   "execution_count": 11,
   "id": "10c5590d",
   "metadata": {},
   "outputs": [],
   "source": [
    "# Rename countires to match with JSON file\n",
    "df.loc[df['Area'] =='Belgium-Luxembourg', 'Area'] = 'Luxembourg'\n",
    "df.loc[df['Area'] =='Bolivia (Plurinational State of)','Area'] = 'Bolivia'\n",
    "df.loc[df['Area'] =='British Virgin Islands', 'Area'] = \"Virgin Island (British)\"\n",
    "df.loc[df['Area'] == 'China, mainland', 'Area'] = 'China'\n",
    "df.loc[df['Area'] =='Comoros','Area'] = \"Comoros (the)\"\n",
    "df.loc[df['Area'] == 'Cook Islands', 'Area'] = \"Cook Islands (the)\"\n",
    "df.loc[df['Area'] =='Czechia', 'Area'] = 'Czech Rep'\n",
    "df.loc[df['Area'] == \"Democratic People's Republic of Korea\",'Area'] = 'North Korea'\n",
    "df.loc[df['Area'] =='Democratic Republic of the Congo', 'Area'] = 'Dem. Rep. Congo'\n",
    "df.loc[df['Area'] =='Dominican Rebublic', 'Area'] = 'Dominican Rep'\n",
    "df.loc[df['Area'] == 'Ethiopia PDR','Area'] = 'Ethiopia'\n",
    "df.loc[df['Area'] == 'French Guyana','Area'] = 'Guyana'\n",
    "df.loc[df['Area'] =='Iran (Islamic Republic of)', 'Area'] = 'Iran'\n",
    "df.loc[df['Area'] == \"Lao People's Democratic Republic\", 'Area'] = 'Lao PDR'\n",
    "df.loc[df['Area'] =='Marshall Islands', 'Area'] = \"Marshall Islands (the)\"\n",
    "df.loc[df['Area'] == 'Netherlands Antilles (former)', 'Area'] = 'Netherlands Antilles'\n",
    "df.loc[df['Area'] == 'North Macedonia', 'Area'] = 'Macedonia'\n",
    "df.loc[df['Area'] == 'Palestine', 'Area'] = 'Palestine, State of'\n",
    "df.loc[df['Area'] == 'Republic of Korea', 'Area'] = 'South Korea'\n",
    "df.loc[df['Area'] == 'Republic of Moldova', 'Area'] = 'Moldova'\n",
    "df.loc[df['Area'] =='Russian Federation', 'Area'] = 'Russia'\n",
    "df.loc[df['Area'] == 'Serbia and Montenegro','Area'] = 'Serbia'\n",
    "df.loc[df['Area'] == 'South Georgia and the South Sandwich Islands', 'Area'] = 'Georgia'\n",
    "df.loc[df['Area'] == 'Sudan (former)', 'Area'] = 'Sudan'\n",
    "df.loc[df['Area'] == 'Syrian Arab Republic',  'Area'] = 'Syria'\n",
    "df.loc[df['Area'] == 'Türkiye', 'Area'] = 'Turkey'\n",
    "df.loc[df['Area'] == 'Turks and Caicos Islands', 'Area'] = \"Turks and Caicos Islands (the)\"\n",
    "df.loc[df['Area'] =='United States Virgin Islands', 'Area'] = \"Virgin Island (U.S.)\""
   ]
  },
  {
   "cell_type": "code",
   "execution_count": 12,
   "id": "8f95b40e",
   "metadata": {},
   "outputs": [],
   "source": [
    "# Export clean df to Prepared folder before subsetting df\n",
    "df.to_csv(os.path.join(path,'Prepared Data','Monthly_Temps.csv'))"
   ]
  },
  {
   "cell_type": "code",
   "execution_count": null,
   "id": "67e0f729",
   "metadata": {},
   "outputs": [],
   "source": []
  }
 ],
 "metadata": {
  "kernelspec": {
   "display_name": "Python 3 (ipykernel)",
   "language": "python",
   "name": "python3"
  },
  "language_info": {
   "codemirror_mode": {
    "name": "ipython",
    "version": 3
   },
   "file_extension": ".py",
   "mimetype": "text/x-python",
   "name": "python",
   "nbconvert_exporter": "python",
   "pygments_lexer": "ipython3",
   "version": "3.9.7"
  }
 },
 "nbformat": 4,
 "nbformat_minor": 5
}
